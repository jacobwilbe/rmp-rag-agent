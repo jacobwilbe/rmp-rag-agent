{
 "cells": [
  {
   "cell_type": "code",
   "execution_count": 32,
   "metadata": {},
   "outputs": [
    {
     "name": "stdout",
     "output_type": "stream",
     "text": [
      "['Professor', 'School', '__builtins__', '__cached__', '__doc__', '__file__', '__loader__', '__name__', '__package__', '__path__', '__spec__', 'base64', 'f', 'get_professor_by_school_and_name', 'get_professors_by_school_and_name', 'get_school_by_name', 'get_schools_by_name', 'headers', 'json', 'os', 'professor', 're', 'requests', 'school']\n"
     ]
    }
   ],
   "source": [
    "import ratemyprofessor\n",
    "\n",
    "print(dir(ratemyprofessor))"
   ]
  },
  {
   "cell_type": "code",
   "execution_count": 2,
   "metadata": {},
   "outputs": [
    {
     "data": {
      "text/plain": [
       "<ratemyprofessor.school.School at 0x105d2a7a0>"
      ]
     },
     "execution_count": 2,
     "metadata": {},
     "output_type": "execute_result"
    }
   ],
   "source": [
    "ratemyprofessor.get_school_by_name(\"University of Delaware\")"
   ]
  },
  {
   "cell_type": "code",
   "execution_count": 36,
   "metadata": {},
   "outputs": [
    {
     "name": "stdout",
     "output_type": "stream",
     "text": [
      "Greg Silber\n",
      "['__class__', '__delattr__', '__dict__', '__dir__', '__doc__', '__eq__', '__format__', '__ge__', '__getattribute__', '__gt__', '__hash__', '__init__', '__init_subclass__', '__le__', '__lt__', '__module__', '__ne__', '__new__', '__reduce__', '__reduce_ex__', '__repr__', '__setattr__', '__sizeof__', '__str__', '__subclasshook__', '__weakref__', '_get_rating_info', 'courses', 'department', 'difficulty', 'get_ratings', 'id', 'name', 'num_ratings', 'rating', 'school', 'would_take_again']\n",
      "['__class__', '__delattr__', '__dict__', '__dir__', '__doc__', '__eq__', '__format__', '__ge__', '__getattribute__', '__gt__', '__hash__', '__init__', '__init_subclass__', '__le__', '__lt__', '__module__', '__ne__', '__new__', '__reduce__', '__reduce_ex__', '__repr__', '__setattr__', '__sizeof__', '__str__', '__subclasshook__', '__weakref__', 'attendance_mandatory', 'class_name', 'comment', 'credit', 'date', 'difficulty', 'grade', 'online_class', 'rating', 'take_again', 'thumbs_down', 'thumbs_up']\n",
      "['__class__', '__delattr__', '__dict__', '__dir__', '__doc__', '__eq__', '__format__', '__ge__', '__getattribute__', '__gt__', '__hash__', '__init__', '__init_subclass__', '__le__', '__lt__', '__module__', '__ne__', '__new__', '__reduce__', '__reduce_ex__', '__repr__', '__setattr__', '__sizeof__', '__str__', '__subclasshook__', '__weakref__', 'attendance_mandatory', 'class_name', 'comment', 'credit', 'date', 'difficulty', 'grade', 'online_class', 'rating', 'take_again', 'thumbs_down', 'thumbs_up']\n",
      "['__class__', '__delattr__', '__dict__', '__dir__', '__doc__', '__eq__', '__format__', '__ge__', '__getattribute__', '__gt__', '__hash__', '__init__', '__init_subclass__', '__le__', '__lt__', '__module__', '__ne__', '__new__', '__reduce__', '__reduce_ex__', '__repr__', '__setattr__', '__sizeof__', '__str__', '__subclasshook__', '__weakref__', 'attendance_mandatory', 'class_name', 'comment', 'credit', 'date', 'difficulty', 'grade', 'online_class', 'rating', 'take_again', 'thumbs_down', 'thumbs_up']\n",
      "['__class__', '__delattr__', '__dict__', '__dir__', '__doc__', '__eq__', '__format__', '__ge__', '__getattribute__', '__gt__', '__hash__', '__init__', '__init_subclass__', '__le__', '__lt__', '__module__', '__ne__', '__new__', '__reduce__', '__reduce_ex__', '__repr__', '__setattr__', '__sizeof__', '__str__', '__subclasshook__', '__weakref__', 'attendance_mandatory', 'class_name', 'comment', 'credit', 'date', 'difficulty', 'grade', 'online_class', 'rating', 'take_again', 'thumbs_down', 'thumbs_up']\n",
      "['__class__', '__delattr__', '__dict__', '__dir__', '__doc__', '__eq__', '__format__', '__ge__', '__getattribute__', '__gt__', '__hash__', '__init__', '__init_subclass__', '__le__', '__lt__', '__module__', '__ne__', '__new__', '__reduce__', '__reduce_ex__', '__repr__', '__setattr__', '__sizeof__', '__str__', '__subclasshook__', '__weakref__', 'attendance_mandatory', 'class_name', 'comment', 'credit', 'date', 'difficulty', 'grade', 'online_class', 'rating', 'take_again', 'thumbs_down', 'thumbs_up']\n",
      "['__class__', '__delattr__', '__dict__', '__dir__', '__doc__', '__eq__', '__format__', '__ge__', '__getattribute__', '__gt__', '__hash__', '__init__', '__init_subclass__', '__le__', '__lt__', '__module__', '__ne__', '__new__', '__reduce__', '__reduce_ex__', '__repr__', '__setattr__', '__sizeof__', '__str__', '__subclasshook__', '__weakref__', 'attendance_mandatory', 'class_name', 'comment', 'credit', 'date', 'difficulty', 'grade', 'online_class', 'rating', 'take_again', 'thumbs_down', 'thumbs_up']\n",
      "['__class__', '__delattr__', '__dict__', '__dir__', '__doc__', '__eq__', '__format__', '__ge__', '__getattribute__', '__gt__', '__hash__', '__init__', '__init_subclass__', '__le__', '__lt__', '__module__', '__ne__', '__new__', '__reduce__', '__reduce_ex__', '__repr__', '__setattr__', '__sizeof__', '__str__', '__subclasshook__', '__weakref__', 'attendance_mandatory', 'class_name', 'comment', 'credit', 'date', 'difficulty', 'grade', 'online_class', 'rating', 'take_again', 'thumbs_down', 'thumbs_up']\n",
      "['__class__', '__delattr__', '__dict__', '__dir__', '__doc__', '__eq__', '__format__', '__ge__', '__getattribute__', '__gt__', '__hash__', '__init__', '__init_subclass__', '__le__', '__lt__', '__module__', '__ne__', '__new__', '__reduce__', '__reduce_ex__', '__repr__', '__setattr__', '__sizeof__', '__str__', '__subclasshook__', '__weakref__', 'attendance_mandatory', 'class_name', 'comment', 'credit', 'date', 'difficulty', 'grade', 'online_class', 'rating', 'take_again', 'thumbs_down', 'thumbs_up']\n",
      "['__class__', '__delattr__', '__dict__', '__dir__', '__doc__', '__eq__', '__format__', '__ge__', '__getattribute__', '__gt__', '__hash__', '__init__', '__init_subclass__', '__le__', '__lt__', '__module__', '__ne__', '__new__', '__reduce__', '__reduce_ex__', '__repr__', '__setattr__', '__sizeof__', '__str__', '__subclasshook__', '__weakref__', 'attendance_mandatory', 'class_name', 'comment', 'credit', 'date', 'difficulty', 'grade', 'online_class', 'rating', 'take_again', 'thumbs_down', 'thumbs_up']\n",
      "['__class__', '__delattr__', '__dict__', '__dir__', '__doc__', '__eq__', '__format__', '__ge__', '__getattribute__', '__gt__', '__hash__', '__init__', '__init_subclass__', '__le__', '__lt__', '__module__', '__ne__', '__new__', '__reduce__', '__reduce_ex__', '__repr__', '__setattr__', '__sizeof__', '__str__', '__subclasshook__', '__weakref__', 'attendance_mandatory', 'class_name', 'comment', 'credit', 'date', 'difficulty', 'grade', 'online_class', 'rating', 'take_again', 'thumbs_down', 'thumbs_up']\n",
      "['__class__', '__delattr__', '__dict__', '__dir__', '__doc__', '__eq__', '__format__', '__ge__', '__getattribute__', '__gt__', '__hash__', '__init__', '__init_subclass__', '__le__', '__lt__', '__module__', '__ne__', '__new__', '__reduce__', '__reduce_ex__', '__repr__', '__setattr__', '__sizeof__', '__str__', '__subclasshook__', '__weakref__', 'attendance_mandatory', 'class_name', 'comment', 'credit', 'date', 'difficulty', 'grade', 'online_class', 'rating', 'take_again', 'thumbs_down', 'thumbs_up']\n",
      "['__class__', '__delattr__', '__dict__', '__dir__', '__doc__', '__eq__', '__format__', '__ge__', '__getattribute__', '__gt__', '__hash__', '__init__', '__init_subclass__', '__le__', '__lt__', '__module__', '__ne__', '__new__', '__reduce__', '__reduce_ex__', '__repr__', '__setattr__', '__sizeof__', '__str__', '__subclasshook__', '__weakref__', 'attendance_mandatory', 'class_name', 'comment', 'credit', 'date', 'difficulty', 'grade', 'online_class', 'rating', 'take_again', 'thumbs_down', 'thumbs_up']\n",
      "['__class__', '__delattr__', '__dict__', '__dir__', '__doc__', '__eq__', '__format__', '__ge__', '__getattribute__', '__gt__', '__hash__', '__init__', '__init_subclass__', '__le__', '__lt__', '__module__', '__ne__', '__new__', '__reduce__', '__reduce_ex__', '__repr__', '__setattr__', '__sizeof__', '__str__', '__subclasshook__', '__weakref__', 'attendance_mandatory', 'class_name', 'comment', 'credit', 'date', 'difficulty', 'grade', 'online_class', 'rating', 'take_again', 'thumbs_down', 'thumbs_up']\n",
      "['__class__', '__delattr__', '__dict__', '__dir__', '__doc__', '__eq__', '__format__', '__ge__', '__getattribute__', '__gt__', '__hash__', '__init__', '__init_subclass__', '__le__', '__lt__', '__module__', '__ne__', '__new__', '__reduce__', '__reduce_ex__', '__repr__', '__setattr__', '__sizeof__', '__str__', '__subclasshook__', '__weakref__', 'attendance_mandatory', 'class_name', 'comment', 'credit', 'date', 'difficulty', 'grade', 'online_class', 'rating', 'take_again', 'thumbs_down', 'thumbs_up']\n",
      "['__class__', '__delattr__', '__dict__', '__dir__', '__doc__', '__eq__', '__format__', '__ge__', '__getattribute__', '__gt__', '__hash__', '__init__', '__init_subclass__', '__le__', '__lt__', '__module__', '__ne__', '__new__', '__reduce__', '__reduce_ex__', '__repr__', '__setattr__', '__sizeof__', '__str__', '__subclasshook__', '__weakref__', 'attendance_mandatory', 'class_name', 'comment', 'credit', 'date', 'difficulty', 'grade', 'online_class', 'rating', 'take_again', 'thumbs_down', 'thumbs_up']\n",
      "['__class__', '__delattr__', '__dict__', '__dir__', '__doc__', '__eq__', '__format__', '__ge__', '__getattribute__', '__gt__', '__hash__', '__init__', '__init_subclass__', '__le__', '__lt__', '__module__', '__ne__', '__new__', '__reduce__', '__reduce_ex__', '__repr__', '__setattr__', '__sizeof__', '__str__', '__subclasshook__', '__weakref__', 'attendance_mandatory', 'class_name', 'comment', 'credit', 'date', 'difficulty', 'grade', 'online_class', 'rating', 'take_again', 'thumbs_down', 'thumbs_up']\n",
      "['__class__', '__delattr__', '__dict__', '__dir__', '__doc__', '__eq__', '__format__', '__ge__', '__getattribute__', '__gt__', '__hash__', '__init__', '__init_subclass__', '__le__', '__lt__', '__module__', '__ne__', '__new__', '__reduce__', '__reduce_ex__', '__repr__', '__setattr__', '__sizeof__', '__str__', '__subclasshook__', '__weakref__', 'attendance_mandatory', 'class_name', 'comment', 'credit', 'date', 'difficulty', 'grade', 'online_class', 'rating', 'take_again', 'thumbs_down', 'thumbs_up']\n",
      "['__class__', '__delattr__', '__dict__', '__dir__', '__doc__', '__eq__', '__format__', '__ge__', '__getattribute__', '__gt__', '__hash__', '__init__', '__init_subclass__', '__le__', '__lt__', '__module__', '__ne__', '__new__', '__reduce__', '__reduce_ex__', '__repr__', '__setattr__', '__sizeof__', '__str__', '__subclasshook__', '__weakref__', 'attendance_mandatory', 'class_name', 'comment', 'credit', 'date', 'difficulty', 'grade', 'online_class', 'rating', 'take_again', 'thumbs_down', 'thumbs_up']\n",
      "['__class__', '__delattr__', '__dict__', '__dir__', '__doc__', '__eq__', '__format__', '__ge__', '__getattribute__', '__gt__', '__hash__', '__init__', '__init_subclass__', '__le__', '__lt__', '__module__', '__ne__', '__new__', '__reduce__', '__reduce_ex__', '__repr__', '__setattr__', '__sizeof__', '__str__', '__subclasshook__', '__weakref__', 'attendance_mandatory', 'class_name', 'comment', 'credit', 'date', 'difficulty', 'grade', 'online_class', 'rating', 'take_again', 'thumbs_down', 'thumbs_up']\n",
      "['__class__', '__delattr__', '__dict__', '__dir__', '__doc__', '__eq__', '__format__', '__ge__', '__getattribute__', '__gt__', '__hash__', '__init__', '__init_subclass__', '__le__', '__lt__', '__module__', '__ne__', '__new__', '__reduce__', '__reduce_ex__', '__repr__', '__setattr__', '__sizeof__', '__str__', '__subclasshook__', '__weakref__', 'attendance_mandatory', 'class_name', 'comment', 'credit', 'date', 'difficulty', 'grade', 'online_class', 'rating', 'take_again', 'thumbs_down', 'thumbs_up']\n",
      "['__class__', '__delattr__', '__dict__', '__dir__', '__doc__', '__eq__', '__format__', '__ge__', '__getattribute__', '__gt__', '__hash__', '__init__', '__init_subclass__', '__le__', '__lt__', '__module__', '__ne__', '__new__', '__reduce__', '__reduce_ex__', '__repr__', '__setattr__', '__sizeof__', '__str__', '__subclasshook__', '__weakref__', 'attendance_mandatory', 'class_name', 'comment', 'credit', 'date', 'difficulty', 'grade', 'online_class', 'rating', 'take_again', 'thumbs_down', 'thumbs_up']\n",
      "['__class__', '__delattr__', '__dict__', '__dir__', '__doc__', '__eq__', '__format__', '__ge__', '__getattribute__', '__gt__', '__hash__', '__init__', '__init_subclass__', '__le__', '__lt__', '__module__', '__ne__', '__new__', '__reduce__', '__reduce_ex__', '__repr__', '__setattr__', '__sizeof__', '__str__', '__subclasshook__', '__weakref__', 'attendance_mandatory', 'class_name', 'comment', 'credit', 'date', 'difficulty', 'grade', 'online_class', 'rating', 'take_again', 'thumbs_down', 'thumbs_up']\n",
      "['__class__', '__delattr__', '__dict__', '__dir__', '__doc__', '__eq__', '__format__', '__ge__', '__getattribute__', '__gt__', '__hash__', '__init__', '__init_subclass__', '__le__', '__lt__', '__module__', '__ne__', '__new__', '__reduce__', '__reduce_ex__', '__repr__', '__setattr__', '__sizeof__', '__str__', '__subclasshook__', '__weakref__', 'attendance_mandatory', 'class_name', 'comment', 'credit', 'date', 'difficulty', 'grade', 'online_class', 'rating', 'take_again', 'thumbs_down', 'thumbs_up']\n",
      "['__class__', '__delattr__', '__dict__', '__dir__', '__doc__', '__eq__', '__format__', '__ge__', '__getattribute__', '__gt__', '__hash__', '__init__', '__init_subclass__', '__le__', '__lt__', '__module__', '__ne__', '__new__', '__reduce__', '__reduce_ex__', '__repr__', '__setattr__', '__sizeof__', '__str__', '__subclasshook__', '__weakref__', 'attendance_mandatory', 'class_name', 'comment', 'credit', 'date', 'difficulty', 'grade', 'online_class', 'rating', 'take_again', 'thumbs_down', 'thumbs_up']\n",
      "['__class__', '__delattr__', '__dict__', '__dir__', '__doc__', '__eq__', '__format__', '__ge__', '__getattribute__', '__gt__', '__hash__', '__init__', '__init_subclass__', '__le__', '__lt__', '__module__', '__ne__', '__new__', '__reduce__', '__reduce_ex__', '__repr__', '__setattr__', '__sizeof__', '__str__', '__subclasshook__', '__weakref__', 'attendance_mandatory', 'class_name', 'comment', 'credit', 'date', 'difficulty', 'grade', 'online_class', 'rating', 'take_again', 'thumbs_down', 'thumbs_up']\n",
      "['__class__', '__delattr__', '__dict__', '__dir__', '__doc__', '__eq__', '__format__', '__ge__', '__getattribute__', '__gt__', '__hash__', '__init__', '__init_subclass__', '__le__', '__lt__', '__module__', '__ne__', '__new__', '__reduce__', '__reduce_ex__', '__repr__', '__setattr__', '__sizeof__', '__str__', '__subclasshook__', '__weakref__', 'attendance_mandatory', 'class_name', 'comment', 'credit', 'date', 'difficulty', 'grade', 'online_class', 'rating', 'take_again', 'thumbs_down', 'thumbs_up']\n",
      "['__class__', '__delattr__', '__dict__', '__dir__', '__doc__', '__eq__', '__format__', '__ge__', '__getattribute__', '__gt__', '__hash__', '__init__', '__init_subclass__', '__le__', '__lt__', '__module__', '__ne__', '__new__', '__reduce__', '__reduce_ex__', '__repr__', '__setattr__', '__sizeof__', '__str__', '__subclasshook__', '__weakref__', 'attendance_mandatory', 'class_name', 'comment', 'credit', 'date', 'difficulty', 'grade', 'online_class', 'rating', 'take_again', 'thumbs_down', 'thumbs_up']\n",
      "['__class__', '__delattr__', '__dict__', '__dir__', '__doc__', '__eq__', '__format__', '__ge__', '__getattribute__', '__gt__', '__hash__', '__init__', '__init_subclass__', '__le__', '__lt__', '__module__', '__ne__', '__new__', '__reduce__', '__reduce_ex__', '__repr__', '__setattr__', '__sizeof__', '__str__', '__subclasshook__', '__weakref__', 'attendance_mandatory', 'class_name', 'comment', 'credit', 'date', 'difficulty', 'grade', 'online_class', 'rating', 'take_again', 'thumbs_down', 'thumbs_up']\n",
      "['__class__', '__delattr__', '__dict__', '__dir__', '__doc__', '__eq__', '__format__', '__ge__', '__getattribute__', '__gt__', '__hash__', '__init__', '__init_subclass__', '__le__', '__lt__', '__module__', '__ne__', '__new__', '__reduce__', '__reduce_ex__', '__repr__', '__setattr__', '__sizeof__', '__str__', '__subclasshook__', '__weakref__', 'attendance_mandatory', 'class_name', 'comment', 'credit', 'date', 'difficulty', 'grade', 'online_class', 'rating', 'take_again', 'thumbs_down', 'thumbs_up']\n",
      "['__class__', '__delattr__', '__dict__', '__dir__', '__doc__', '__eq__', '__format__', '__ge__', '__getattribute__', '__gt__', '__hash__', '__init__', '__init_subclass__', '__le__', '__lt__', '__module__', '__ne__', '__new__', '__reduce__', '__reduce_ex__', '__repr__', '__setattr__', '__sizeof__', '__str__', '__subclasshook__', '__weakref__', 'attendance_mandatory', 'class_name', 'comment', 'credit', 'date', 'difficulty', 'grade', 'online_class', 'rating', 'take_again', 'thumbs_down', 'thumbs_up']\n",
      "['__class__', '__delattr__', '__dict__', '__dir__', '__doc__', '__eq__', '__format__', '__ge__', '__getattribute__', '__gt__', '__hash__', '__init__', '__init_subclass__', '__le__', '__lt__', '__module__', '__ne__', '__new__', '__reduce__', '__reduce_ex__', '__repr__', '__setattr__', '__sizeof__', '__str__', '__subclasshook__', '__weakref__', 'attendance_mandatory', 'class_name', 'comment', 'credit', 'date', 'difficulty', 'grade', 'online_class', 'rating', 'take_again', 'thumbs_down', 'thumbs_up']\n",
      "['__class__', '__delattr__', '__dict__', '__dir__', '__doc__', '__eq__', '__format__', '__ge__', '__getattribute__', '__gt__', '__hash__', '__init__', '__init_subclass__', '__le__', '__lt__', '__module__', '__ne__', '__new__', '__reduce__', '__reduce_ex__', '__repr__', '__setattr__', '__sizeof__', '__str__', '__subclasshook__', '__weakref__', 'attendance_mandatory', 'class_name', 'comment', 'credit', 'date', 'difficulty', 'grade', 'online_class', 'rating', 'take_again', 'thumbs_down', 'thumbs_up']\n",
      "['__class__', '__delattr__', '__dict__', '__dir__', '__doc__', '__eq__', '__format__', '__ge__', '__getattribute__', '__gt__', '__hash__', '__init__', '__init_subclass__', '__le__', '__lt__', '__module__', '__ne__', '__new__', '__reduce__', '__reduce_ex__', '__repr__', '__setattr__', '__sizeof__', '__str__', '__subclasshook__', '__weakref__', 'attendance_mandatory', 'class_name', 'comment', 'credit', 'date', 'difficulty', 'grade', 'online_class', 'rating', 'take_again', 'thumbs_down', 'thumbs_up']\n",
      "['__class__', '__delattr__', '__dict__', '__dir__', '__doc__', '__eq__', '__format__', '__ge__', '__getattribute__', '__gt__', '__hash__', '__init__', '__init_subclass__', '__le__', '__lt__', '__module__', '__ne__', '__new__', '__reduce__', '__reduce_ex__', '__repr__', '__setattr__', '__sizeof__', '__str__', '__subclasshook__', '__weakref__', 'attendance_mandatory', 'class_name', 'comment', 'credit', 'date', 'difficulty', 'grade', 'online_class', 'rating', 'take_again', 'thumbs_down', 'thumbs_up']\n",
      "['__class__', '__delattr__', '__dict__', '__dir__', '__doc__', '__eq__', '__format__', '__ge__', '__getattribute__', '__gt__', '__hash__', '__init__', '__init_subclass__', '__le__', '__lt__', '__module__', '__ne__', '__new__', '__reduce__', '__reduce_ex__', '__repr__', '__setattr__', '__sizeof__', '__str__', '__subclasshook__', '__weakref__', 'attendance_mandatory', 'class_name', 'comment', 'credit', 'date', 'difficulty', 'grade', 'online_class', 'rating', 'take_again', 'thumbs_down', 'thumbs_up']\n",
      "['__class__', '__delattr__', '__dict__', '__dir__', '__doc__', '__eq__', '__format__', '__ge__', '__getattribute__', '__gt__', '__hash__', '__init__', '__init_subclass__', '__le__', '__lt__', '__module__', '__ne__', '__new__', '__reduce__', '__reduce_ex__', '__repr__', '__setattr__', '__sizeof__', '__str__', '__subclasshook__', '__weakref__', 'attendance_mandatory', 'class_name', 'comment', 'credit', 'date', 'difficulty', 'grade', 'online_class', 'rating', 'take_again', 'thumbs_down', 'thumbs_up']\n",
      "['__class__', '__delattr__', '__dict__', '__dir__', '__doc__', '__eq__', '__format__', '__ge__', '__getattribute__', '__gt__', '__hash__', '__init__', '__init_subclass__', '__le__', '__lt__', '__module__', '__ne__', '__new__', '__reduce__', '__reduce_ex__', '__repr__', '__setattr__', '__sizeof__', '__str__', '__subclasshook__', '__weakref__', 'attendance_mandatory', 'class_name', 'comment', 'credit', 'date', 'difficulty', 'grade', 'online_class', 'rating', 'take_again', 'thumbs_down', 'thumbs_up']\n",
      "['__class__', '__delattr__', '__dict__', '__dir__', '__doc__', '__eq__', '__format__', '__ge__', '__getattribute__', '__gt__', '__hash__', '__init__', '__init_subclass__', '__le__', '__lt__', '__module__', '__ne__', '__new__', '__reduce__', '__reduce_ex__', '__repr__', '__setattr__', '__sizeof__', '__str__', '__subclasshook__', '__weakref__', 'attendance_mandatory', 'class_name', 'comment', 'credit', 'date', 'difficulty', 'grade', 'online_class', 'rating', 'take_again', 'thumbs_down', 'thumbs_up']\n",
      "['__class__', '__delattr__', '__dict__', '__dir__', '__doc__', '__eq__', '__format__', '__ge__', '__getattribute__', '__gt__', '__hash__', '__init__', '__init_subclass__', '__le__', '__lt__', '__module__', '__ne__', '__new__', '__reduce__', '__reduce_ex__', '__repr__', '__setattr__', '__sizeof__', '__str__', '__subclasshook__', '__weakref__', 'attendance_mandatory', 'class_name', 'comment', 'credit', 'date', 'difficulty', 'grade', 'online_class', 'rating', 'take_again', 'thumbs_down', 'thumbs_up']\n",
      "['__class__', '__delattr__', '__dict__', '__dir__', '__doc__', '__eq__', '__format__', '__ge__', '__getattribute__', '__gt__', '__hash__', '__init__', '__init_subclass__', '__le__', '__lt__', '__module__', '__ne__', '__new__', '__reduce__', '__reduce_ex__', '__repr__', '__setattr__', '__sizeof__', '__str__', '__subclasshook__', '__weakref__', 'attendance_mandatory', 'class_name', 'comment', 'credit', 'date', 'difficulty', 'grade', 'online_class', 'rating', 'take_again', 'thumbs_down', 'thumbs_up']\n",
      "['__class__', '__delattr__', '__dict__', '__dir__', '__doc__', '__eq__', '__format__', '__ge__', '__getattribute__', '__gt__', '__hash__', '__init__', '__init_subclass__', '__le__', '__lt__', '__module__', '__ne__', '__new__', '__reduce__', '__reduce_ex__', '__repr__', '__setattr__', '__sizeof__', '__str__', '__subclasshook__', '__weakref__', 'attendance_mandatory', 'class_name', 'comment', 'credit', 'date', 'difficulty', 'grade', 'online_class', 'rating', 'take_again', 'thumbs_down', 'thumbs_up']\n",
      "['__class__', '__delattr__', '__dict__', '__dir__', '__doc__', '__eq__', '__format__', '__ge__', '__getattribute__', '__gt__', '__hash__', '__init__', '__init_subclass__', '__le__', '__lt__', '__module__', '__ne__', '__new__', '__reduce__', '__reduce_ex__', '__repr__', '__setattr__', '__sizeof__', '__str__', '__subclasshook__', '__weakref__', 'attendance_mandatory', 'class_name', 'comment', 'credit', 'date', 'difficulty', 'grade', 'online_class', 'rating', 'take_again', 'thumbs_down', 'thumbs_up']\n",
      "['__class__', '__delattr__', '__dict__', '__dir__', '__doc__', '__eq__', '__format__', '__ge__', '__getattribute__', '__gt__', '__hash__', '__init__', '__init_subclass__', '__le__', '__lt__', '__module__', '__ne__', '__new__', '__reduce__', '__reduce_ex__', '__repr__', '__setattr__', '__sizeof__', '__str__', '__subclasshook__', '__weakref__', 'attendance_mandatory', 'class_name', 'comment', 'credit', 'date', 'difficulty', 'grade', 'online_class', 'rating', 'take_again', 'thumbs_down', 'thumbs_up']\n",
      "['__class__', '__delattr__', '__dict__', '__dir__', '__doc__', '__eq__', '__format__', '__ge__', '__getattribute__', '__gt__', '__hash__', '__init__', '__init_subclass__', '__le__', '__lt__', '__module__', '__ne__', '__new__', '__reduce__', '__reduce_ex__', '__repr__', '__setattr__', '__sizeof__', '__str__', '__subclasshook__', '__weakref__', 'attendance_mandatory', 'class_name', 'comment', 'credit', 'date', 'difficulty', 'grade', 'online_class', 'rating', 'take_again', 'thumbs_down', 'thumbs_up']\n",
      "['__class__', '__delattr__', '__dict__', '__dir__', '__doc__', '__eq__', '__format__', '__ge__', '__getattribute__', '__gt__', '__hash__', '__init__', '__init_subclass__', '__le__', '__lt__', '__module__', '__ne__', '__new__', '__reduce__', '__reduce_ex__', '__repr__', '__setattr__', '__sizeof__', '__str__', '__subclasshook__', '__weakref__', 'attendance_mandatory', 'class_name', 'comment', 'credit', 'date', 'difficulty', 'grade', 'online_class', 'rating', 'take_again', 'thumbs_down', 'thumbs_up']\n",
      "['__class__', '__delattr__', '__dict__', '__dir__', '__doc__', '__eq__', '__format__', '__ge__', '__getattribute__', '__gt__', '__hash__', '__init__', '__init_subclass__', '__le__', '__lt__', '__module__', '__ne__', '__new__', '__reduce__', '__reduce_ex__', '__repr__', '__setattr__', '__sizeof__', '__str__', '__subclasshook__', '__weakref__', 'attendance_mandatory', 'class_name', 'comment', 'credit', 'date', 'difficulty', 'grade', 'online_class', 'rating', 'take_again', 'thumbs_down', 'thumbs_up']\n",
      "['__class__', '__delattr__', '__dict__', '__dir__', '__doc__', '__eq__', '__format__', '__ge__', '__getattribute__', '__gt__', '__hash__', '__init__', '__init_subclass__', '__le__', '__lt__', '__module__', '__ne__', '__new__', '__reduce__', '__reduce_ex__', '__repr__', '__setattr__', '__sizeof__', '__str__', '__subclasshook__', '__weakref__', 'attendance_mandatory', 'class_name', 'comment', 'credit', 'date', 'difficulty', 'grade', 'online_class', 'rating', 'take_again', 'thumbs_down', 'thumbs_up']\n",
      "['__class__', '__delattr__', '__dict__', '__dir__', '__doc__', '__eq__', '__format__', '__ge__', '__getattribute__', '__gt__', '__hash__', '__init__', '__init_subclass__', '__le__', '__lt__', '__module__', '__ne__', '__new__', '__reduce__', '__reduce_ex__', '__repr__', '__setattr__', '__sizeof__', '__str__', '__subclasshook__', '__weakref__', 'attendance_mandatory', 'class_name', 'comment', 'credit', 'date', 'difficulty', 'grade', 'online_class', 'rating', 'take_again', 'thumbs_down', 'thumbs_up']\n",
      "['__class__', '__delattr__', '__dict__', '__dir__', '__doc__', '__eq__', '__format__', '__ge__', '__getattribute__', '__gt__', '__hash__', '__init__', '__init_subclass__', '__le__', '__lt__', '__module__', '__ne__', '__new__', '__reduce__', '__reduce_ex__', '__repr__', '__setattr__', '__sizeof__', '__str__', '__subclasshook__', '__weakref__', 'attendance_mandatory', 'class_name', 'comment', 'credit', 'date', 'difficulty', 'grade', 'online_class', 'rating', 'take_again', 'thumbs_down', 'thumbs_up']\n",
      "['__class__', '__delattr__', '__dict__', '__dir__', '__doc__', '__eq__', '__format__', '__ge__', '__getattribute__', '__gt__', '__hash__', '__init__', '__init_subclass__', '__le__', '__lt__', '__module__', '__ne__', '__new__', '__reduce__', '__reduce_ex__', '__repr__', '__setattr__', '__sizeof__', '__str__', '__subclasshook__', '__weakref__', 'attendance_mandatory', 'class_name', 'comment', 'credit', 'date', 'difficulty', 'grade', 'online_class', 'rating', 'take_again', 'thumbs_down', 'thumbs_up']\n",
      "['__class__', '__delattr__', '__dict__', '__dir__', '__doc__', '__eq__', '__format__', '__ge__', '__getattribute__', '__gt__', '__hash__', '__init__', '__init_subclass__', '__le__', '__lt__', '__module__', '__ne__', '__new__', '__reduce__', '__reduce_ex__', '__repr__', '__setattr__', '__sizeof__', '__str__', '__subclasshook__', '__weakref__', 'attendance_mandatory', 'class_name', 'comment', 'credit', 'date', 'difficulty', 'grade', 'online_class', 'rating', 'take_again', 'thumbs_down', 'thumbs_up']\n",
      "['__class__', '__delattr__', '__dict__', '__dir__', '__doc__', '__eq__', '__format__', '__ge__', '__getattribute__', '__gt__', '__hash__', '__init__', '__init_subclass__', '__le__', '__lt__', '__module__', '__ne__', '__new__', '__reduce__', '__reduce_ex__', '__repr__', '__setattr__', '__sizeof__', '__str__', '__subclasshook__', '__weakref__', 'attendance_mandatory', 'class_name', 'comment', 'credit', 'date', 'difficulty', 'grade', 'online_class', 'rating', 'take_again', 'thumbs_down', 'thumbs_up']\n",
      "['__class__', '__delattr__', '__dict__', '__dir__', '__doc__', '__eq__', '__format__', '__ge__', '__getattribute__', '__gt__', '__hash__', '__init__', '__init_subclass__', '__le__', '__lt__', '__module__', '__ne__', '__new__', '__reduce__', '__reduce_ex__', '__repr__', '__setattr__', '__sizeof__', '__str__', '__subclasshook__', '__weakref__', 'attendance_mandatory', 'class_name', 'comment', 'credit', 'date', 'difficulty', 'grade', 'online_class', 'rating', 'take_again', 'thumbs_down', 'thumbs_up']\n",
      "['__class__', '__delattr__', '__dict__', '__dir__', '__doc__', '__eq__', '__format__', '__ge__', '__getattribute__', '__gt__', '__hash__', '__init__', '__init_subclass__', '__le__', '__lt__', '__module__', '__ne__', '__new__', '__reduce__', '__reduce_ex__', '__repr__', '__setattr__', '__sizeof__', '__str__', '__subclasshook__', '__weakref__', 'attendance_mandatory', 'class_name', 'comment', 'credit', 'date', 'difficulty', 'grade', 'online_class', 'rating', 'take_again', 'thumbs_down', 'thumbs_up']\n",
      "['__class__', '__delattr__', '__dict__', '__dir__', '__doc__', '__eq__', '__format__', '__ge__', '__getattribute__', '__gt__', '__hash__', '__init__', '__init_subclass__', '__le__', '__lt__', '__module__', '__ne__', '__new__', '__reduce__', '__reduce_ex__', '__repr__', '__setattr__', '__sizeof__', '__str__', '__subclasshook__', '__weakref__', 'attendance_mandatory', 'class_name', 'comment', 'credit', 'date', 'difficulty', 'grade', 'online_class', 'rating', 'take_again', 'thumbs_down', 'thumbs_up']\n",
      "['__class__', '__delattr__', '__dict__', '__dir__', '__doc__', '__eq__', '__format__', '__ge__', '__getattribute__', '__gt__', '__hash__', '__init__', '__init_subclass__', '__le__', '__lt__', '__module__', '__ne__', '__new__', '__reduce__', '__reduce_ex__', '__repr__', '__setattr__', '__sizeof__', '__str__', '__subclasshook__', '__weakref__', 'attendance_mandatory', 'class_name', 'comment', 'credit', 'date', 'difficulty', 'grade', 'online_class', 'rating', 'take_again', 'thumbs_down', 'thumbs_up']\n",
      "['__class__', '__delattr__', '__dict__', '__dir__', '__doc__', '__eq__', '__format__', '__ge__', '__getattribute__', '__gt__', '__hash__', '__init__', '__init_subclass__', '__le__', '__lt__', '__module__', '__ne__', '__new__', '__reduce__', '__reduce_ex__', '__repr__', '__setattr__', '__sizeof__', '__str__', '__subclasshook__', '__weakref__', 'attendance_mandatory', 'class_name', 'comment', 'credit', 'date', 'difficulty', 'grade', 'online_class', 'rating', 'take_again', 'thumbs_down', 'thumbs_up']\n",
      "['__class__', '__delattr__', '__dict__', '__dir__', '__doc__', '__eq__', '__format__', '__ge__', '__getattribute__', '__gt__', '__hash__', '__init__', '__init_subclass__', '__le__', '__lt__', '__module__', '__ne__', '__new__', '__reduce__', '__reduce_ex__', '__repr__', '__setattr__', '__sizeof__', '__str__', '__subclasshook__', '__weakref__', 'attendance_mandatory', 'class_name', 'comment', 'credit', 'date', 'difficulty', 'grade', 'online_class', 'rating', 'take_again', 'thumbs_down', 'thumbs_up']\n",
      "['__class__', '__delattr__', '__dict__', '__dir__', '__doc__', '__eq__', '__format__', '__ge__', '__getattribute__', '__gt__', '__hash__', '__init__', '__init_subclass__', '__le__', '__lt__', '__module__', '__ne__', '__new__', '__reduce__', '__reduce_ex__', '__repr__', '__setattr__', '__sizeof__', '__str__', '__subclasshook__', '__weakref__', 'attendance_mandatory', 'class_name', 'comment', 'credit', 'date', 'difficulty', 'grade', 'online_class', 'rating', 'take_again', 'thumbs_down', 'thumbs_up']\n",
      "['__class__', '__delattr__', '__dict__', '__dir__', '__doc__', '__eq__', '__format__', '__ge__', '__getattribute__', '__gt__', '__hash__', '__init__', '__init_subclass__', '__le__', '__lt__', '__module__', '__ne__', '__new__', '__reduce__', '__reduce_ex__', '__repr__', '__setattr__', '__sizeof__', '__str__', '__subclasshook__', '__weakref__', 'attendance_mandatory', 'class_name', 'comment', 'credit', 'date', 'difficulty', 'grade', 'online_class', 'rating', 'take_again', 'thumbs_down', 'thumbs_up']\n",
      "['__class__', '__delattr__', '__dict__', '__dir__', '__doc__', '__eq__', '__format__', '__ge__', '__getattribute__', '__gt__', '__hash__', '__init__', '__init_subclass__', '__le__', '__lt__', '__module__', '__ne__', '__new__', '__reduce__', '__reduce_ex__', '__repr__', '__setattr__', '__sizeof__', '__str__', '__subclasshook__', '__weakref__', 'attendance_mandatory', 'class_name', 'comment', 'credit', 'date', 'difficulty', 'grade', 'online_class', 'rating', 'take_again', 'thumbs_down', 'thumbs_up']\n",
      "['__class__', '__delattr__', '__dict__', '__dir__', '__doc__', '__eq__', '__format__', '__ge__', '__getattribute__', '__gt__', '__hash__', '__init__', '__init_subclass__', '__le__', '__lt__', '__module__', '__ne__', '__new__', '__reduce__', '__reduce_ex__', '__repr__', '__setattr__', '__sizeof__', '__str__', '__subclasshook__', '__weakref__', 'attendance_mandatory', 'class_name', 'comment', 'credit', 'date', 'difficulty', 'grade', 'online_class', 'rating', 'take_again', 'thumbs_down', 'thumbs_up']\n",
      "['__class__', '__delattr__', '__dict__', '__dir__', '__doc__', '__eq__', '__format__', '__ge__', '__getattribute__', '__gt__', '__hash__', '__init__', '__init_subclass__', '__le__', '__lt__', '__module__', '__ne__', '__new__', '__reduce__', '__reduce_ex__', '__repr__', '__setattr__', '__sizeof__', '__str__', '__subclasshook__', '__weakref__', 'attendance_mandatory', 'class_name', 'comment', 'credit', 'date', 'difficulty', 'grade', 'online_class', 'rating', 'take_again', 'thumbs_down', 'thumbs_up']\n",
      "['__class__', '__delattr__', '__dict__', '__dir__', '__doc__', '__eq__', '__format__', '__ge__', '__getattribute__', '__gt__', '__hash__', '__init__', '__init_subclass__', '__le__', '__lt__', '__module__', '__ne__', '__new__', '__reduce__', '__reduce_ex__', '__repr__', '__setattr__', '__sizeof__', '__str__', '__subclasshook__', '__weakref__', 'attendance_mandatory', 'class_name', 'comment', 'credit', 'date', 'difficulty', 'grade', 'online_class', 'rating', 'take_again', 'thumbs_down', 'thumbs_up']\n",
      "['__class__', '__delattr__', '__dict__', '__dir__', '__doc__', '__eq__', '__format__', '__ge__', '__getattribute__', '__gt__', '__hash__', '__init__', '__init_subclass__', '__le__', '__lt__', '__module__', '__ne__', '__new__', '__reduce__', '__reduce_ex__', '__repr__', '__setattr__', '__sizeof__', '__str__', '__subclasshook__', '__weakref__', 'attendance_mandatory', 'class_name', 'comment', 'credit', 'date', 'difficulty', 'grade', 'online_class', 'rating', 'take_again', 'thumbs_down', 'thumbs_up']\n",
      "['__class__', '__delattr__', '__dict__', '__dir__', '__doc__', '__eq__', '__format__', '__ge__', '__getattribute__', '__gt__', '__hash__', '__init__', '__init_subclass__', '__le__', '__lt__', '__module__', '__ne__', '__new__', '__reduce__', '__reduce_ex__', '__repr__', '__setattr__', '__sizeof__', '__str__', '__subclasshook__', '__weakref__', 'attendance_mandatory', 'class_name', 'comment', 'credit', 'date', 'difficulty', 'grade', 'online_class', 'rating', 'take_again', 'thumbs_down', 'thumbs_up']\n"
     ]
    },
    {
     "name": "stderr",
     "output_type": "stream",
     "text": [
      "/opt/anaconda3/envs/rag/lib/python3.10/site-packages/ratemyprofessor/professor.py:196: MarkupResemblesLocatorWarning: The input looks more like a filename than markup. You may want to open this file and pass the filehandle into Beautiful Soup.\n",
      "  self.comment = BeautifulSoup(comment, \"lxml\").text\n"
     ]
    }
   ],
   "source": [
    "professor = ratemyprofessor.get_professor_by_school_and_name(\n",
    "    ratemyprofessor.get_school_by_name(\"University of Delaware\"), \"Greg Silber\")\n",
    "print(professor)"
   ]
  },
  {
   "cell_type": "code",
   "execution_count": 41,
   "metadata": {},
   "outputs": [
    {
     "name": "stdout",
     "output_type": "stream",
     "text": [
      "CISC210\n",
      "Great and understanding guy. Exams are a little rough but he always goes over what is going to be on an exam. gives one a week assignments as grades/hw's. Responds to emails very fast and is always willing to help. Only negative is his lectures are a little boring. He re-reads the slides then explains it in depth.\n",
      "Attendendance Mandatory: False\n",
      "grade: B\n",
      "CIS181\n",
      "Very great and helpful professor! He increased my confidence in my abilities in computer science. He always helps and explains properly, understands the material very well, and explains it clearly. He even puts in effort to make his lectures interesting and participative for everyone. I would definitely recommend him, 100 percent.\n",
      "Attendendance Mandatory: True\n",
      "grade: A\n",
      "CIS181\n",
      "Silber is a great professor and probably the best in the cisc department. He is very laidback and cares a lot about his students. Even though the content of the class may be boring, Silber tries his best to make it engaging and funny. Only complaint I have is that it is kind of hard to reach him through email but he is great in person.\n",
      "Attendendance Mandatory: True\n",
      "grade: A\n",
      "CIS181\n",
      "For my class essentially being typescript guinnea pigs, this class was genuenly really fun. It renewed my faith in computer science after my middling experience with 108. Silber also made my actually enjoy web development, even though that wasnt even the main part of the course at all. Funny dude, felt like an uncle. Highly reccomend.\n",
      "Attendendance Mandatory: False\n",
      "grade: A\n",
      "CIS181\n",
      "He has set up classes in a way that helped me learn much easier than others. He is almost always available and has a cool uncle energy that makes him not only approachable but also very patient with any questions or concerns you have.\n",
      "Attendendance Mandatory: True\n",
      "grade: A-\n",
      "CISC260\n",
      "It's not hard to see why a lot of students like Professor Silber. He's very knowledgeable with the content he teaches and is always willing to help students. That being said, I don't think he did the best job at structuring CISC 260. There were very few practice assignments to reinforce the concepts which made it a lot harder to understand them.\n",
      "Attendendance Mandatory: True\n",
      "grade: B\n",
      "CISC260\n",
      "He's nice but his exams are pretty bad. The assignments were easy but nothing like it was on the exam.\n",
      "Attendendance Mandatory: False\n",
      "grade: B-\n",
      "CISC260\n",
      "Dr. Silber is awesome! He is pretty explicit about what to be prepared for on the exams and whatnot. Personally, I thought the class itself was kind of hard, but I managed to get an A because he rounded me up (I was off by 0.1%). He is also very accessible outside of class by appointment and office hours. \n",
      "Attendendance Mandatory: False\n",
      "grade: A\n",
      "CISC260\n",
      "Silber is very knowledgeable of his stuff when it comes to assembly. He's very enthusiastic when it comes to these topics and it's quite evident. However, the midterm + final count for A LOT of the grade, so if you don't do well on them, you're in trouble.\n",
      "Attendendance Mandatory: False\n",
      "grade: C\n",
      "CISC372\n",
      "Silber is great! He is such a good guy, he really cares about his students and is always looking to help out. He is so passionate about the material. My only gripe is that his classes are very very lecture heavy. A tuesday/thursday 80 minutes of lecturing is extremely rough. I think he's a great lecturer, I just wish he could break it up a bit.\n",
      "Attendendance Mandatory: False\n",
      "grade: Not sure yet\n",
      "CISC260\n",
      "Silber is the GOAT! He is incredibly intelligent and makes learning complex topics an easy time. This is my second semester with Silber, and I hope it's not my last\n",
      "Attendendance Mandatory: False\n",
      "grade: A\n",
      "CISC260\n",
      "Professor Silber is really nice and willing to work with you over things you're struggling to understand. It's evident he genuinely cares for the success of his students, but his lectures tend to draw out and it becomes really boring to pay attention for a long period. Grading is slow, but he allows cheat sheets on exams. There's a midterm + final.\n",
      "Attendendance Mandatory: False\n",
      "grade: C-\n",
      "CISC210\n",
      "If you are overloaded with classes and arent confident with cisc, Take this professor. projects are easy with office help which he provides with TA's aswell and the exams are so light. did not study and would get 70's. passed with a High B with minimal effort as a person with no knowledge before of anything computer science \n",
      "Attendendance Mandatory: False\n",
      "grade: B\n",
      "CIS361\n",
      "Where to begin? Silber is by far the best professor I have had in the CISC department. The most challenging part of this course was the shell project, but if you start it well before it is due and go to office hours and get help you should be able to manage it. The exams were open-note. Definitely recommend Silber if you can take him.\n",
      "Attendendance Mandatory: False\n",
      "grade: B\n",
      "CISC474\n",
      "Get ready to tech yourself. You'll be shown like 5 class exercises that teach you nothing and you have to create a full stack web app with your group. I got screwed and was in a group with lazy people who did barely anything.  He is helpful but if you really wanna learn something cool you'll have to do it yourself.\n",
      "Attendendance Mandatory: False\n",
      "grade: B\n",
      "CIS361\n",
      "The best CS professor in UD. He could explain difficult concepts in a simple way. This course, the shell, was the most difficult project. Make sure to start doing it early. If you have question, go to his office hour, and you will be fine. The exam is open notes. \n",
      "Attendendance Mandatory: False\n",
      "grade: A\n",
      "CISC320\n",
      "Prof Silber makes it clear that he cares about his students and really loves teaching. Very accessible. If you have a concern, just talk to him about it. Grades very fairly.\n",
      "Attendendance Mandatory: False\n",
      "grade: A\n",
      "CISC361\n",
      "Great professor. Some of the homework, especially the shell project, were hard. Exams weren't too bad. Open note / open internet\n",
      "Attendendance Mandatory: False\n",
      "grade: A+\n",
      "CISC303\n",
      "One of the best professors I've had at UD. Always willing to go out of his way to help you understand course material. Also took CISC361 with him.\n",
      "Attendendance Mandatory: False\n",
      "grade: A-\n",
      "CISC372\n",
      "For parallel programming he was good. Around 6 assignments total and he is very accessible. Go to him when you need help (don't procrastinate) and you should do good in his classes.\n",
      "Attendendance Mandatory: False\n",
      "grade: A\n",
      "CISC361\n",
      "I had Professor Silber for five different classes and he definitely lives up to the hype on this page. When computer science gets hard, this guy is the one who makes you feel like you're still in the right place. He loves talking to students so I recommend not turning your camera off because talking to a blank screen makes him sad.\n",
      "Attendendance Mandatory: None\n",
      "grade: A\n",
      "CISC320\n",
      "The lecture's are a good walkthrough many notable algorithms. Not so much taking notes, as understanding how to solve common components of problems, and the homeworks were applying those techniques. Only a few heavy homeworks, but only a few b/c they must be tough to grade. He could talk ad nauseam about all of these topics.\n",
      "Attendendance Mandatory: False\n",
      "grade: A\n",
      "CISC474\n",
      "The one and only. Take his classes whenever possible.\n",
      "Attendendance Mandatory: False\n",
      "grade: Not sure yet\n",
      "CISC320\n",
      "Silber is one of the best Professor Ive taken so far. Algorithms is really hard topic to digest and also given that we were online because of COVID. Considering these things, he always made sure to take care of his students. Exams were open-note and he is a very lenient grader. Definitely worth taking him for any CISC class at UD.\n",
      "Attendendance Mandatory: None\n",
      "grade: \n",
      "CISC474\n",
      "Very chill and understanding but not that great at explaining or lecturing. However he's friendly and his assignments are always reasonable. Had him for OS as well which was difficult since that class is very high on material and lectures were not helpful for assignments, only tests. Otherwise pretty good.\n",
      "Attendendance Mandatory: False\n",
      "grade: \n",
      "CISC210\n",
      "Professor Silber is one of the only professors that I have had that genuinely cares. With being a CISC professor, he cares more about the students understanding the ideas rather than getting all of the small details that can just be looked up. He really helped me understand some tough material.\n",
      "Attendendance Mandatory: False\n",
      "grade: A\n",
      "CISC220\n",
      "Great Professor, whom motivates you and is there to help you succeed. Go to class and study and you will do well. Take him for as many lectures as you can. I had him for Cisc220 and Cisc303. Attendance is not mandatory and he will help you until you are satisfied in his office hours.\n",
      "Attendendance Mandatory: False\n",
      "grade: A\n",
      "CISC210\n",
      "CARING! I cannot emphasize that enough. Silber genuinely sympathizes with his students. Also, he's exactly how you would expect a C (language) professor to be: Simple, minimalist, and efficient. The content of the course is precise and doesn't waste your time, like I've seen with Roosen for CISC210. Overall, solid professor.\n",
      "Attendendance Mandatory: False\n",
      "grade: A\n",
      "CISC210\n",
      "Silber is a great professor who really cares about his students\n",
      "Attendendance Mandatory: None\n",
      "grade: Not sure yet\n",
      "CISC475\n",
      "Greg Silber is the best and his classes are fantastic.\n",
      "Attendendance Mandatory: True\n",
      "grade: A\n",
      "CISC303\n",
      "Silber is by far one of the best profs in the CS department, if not the best. He gives great lectures, is a relatable human, and is willing to work with the student in order for them to learn.\n",
      "Attendendance Mandatory: None\n",
      "grade: \n",
      "CISC210\n",
      "Probably the best teacher i've had in my entire life\n",
      "Attendendance Mandatory: False\n",
      "grade: A+\n",
      "CISC210\n",
      "Silber is a really great guy, tests are open note and doable. He is really setting you up to succeed in every way. This was a little tough as it was the first time this class was taught, but it was still a great experience.\n",
      "Attendendance Mandatory: False\n",
      "grade: A\n",
      "CISC210\n",
      "I have been fortunate enough to have Professor Silber for CISC181, CISC210, and CISC220. I can easily say out of all the professors I have had thus far, Professor Silber has been by far my favorite. It is so evident that he genuinely cares and wants us to succeed as computer scientist.\n",
      "Attendendance Mandatory: False\n",
      "grade: \n",
      "CISC210\n",
      "Amazing professor, and is known to be the most popular computer science professor at UD. He GENUINELY cares about student success, and I have never met a professor before who will do everything in his power to help the student's learn, and will even change the structure of the course to benefit the student. Exams are not tough, just pay attention.\n",
      "Attendendance Mandatory: False\n",
      "grade: Not sure yet\n",
      "CISC303\n",
      "One of the best comp sci professors at UD. His prime goal is to help you to learn the material, which is refreshing from all the neurotic professors wrapped up in grades and assignments and if theyre class is too hard or too easy. Hes down to earth, funny, and he was really helpful and nice in office hours.\n",
      "Attendendance Mandatory: False\n",
      "grade: A\n",
      "CISC303\n",
      "Amazing professor, while he will make you learn the material to pass, he will do everything he can to help you get the grade you want. He doesn't believe in A minuses so he doesn't give them an all exams in both CISC 260 and CISC 303 are open note. (I still wouldn't say that they're easy, but at least good prep pays off)\n",
      "Attendendance Mandatory: False\n",
      "grade: B+\n",
      "CISC260\n",
      "I took Machine architecture and assembly language and it was a breeze, which was surprising because I actually learned a huge amount. This class taught me more about how computers actually work then all my other classes combined. Silber is a really good lecturer, his assignments aren't too hard but are interesting and teach the concepts well.\n",
      "Attendendance Mandatory: True\n",
      "grade: A\n",
      "CISC106\n",
      "Silber is a great choice. very laid back, easygoing, and honestly wants his students to succeed. The lectures can get long and boring, but the work will be easier if you attend and pay attention to examples. Don't bother buying the textbook, I never opened mine, Google is much more useful.\n",
      "Attendendance Mandatory: False\n",
      "grade: A+\n",
      "CISC106\n",
      "He's an awesome professor that will always help you when you need it\n",
      "Attendendance Mandatory: False\n",
      "grade: A+\n",
      "CISC474\n",
      "Silber is a very relaxed professor. All he wants you to do is try and put forth an honest effort and you will do well. This particular class had no exams, only projects.\n",
      "Attendendance Mandatory: None\n",
      "grade: A\n",
      "CISC260\n",
      "Professor Silber gives fair (and open note) exams, assigns little homework, and is very helpful if you have questions. He's also a really friendly guy who has a good sense of humor. I really enjoyed his class and highly recommend it.\n",
      "Attendendance Mandatory: False\n",
      "grade: A\n",
      "CISC260\n",
      "He is the man and an amazing professor! Go to class and you will do well.\n",
      "Attendendance Mandatory: None\n",
      "grade: A\n",
      "CISC220\n",
      "10/10. Would take again! Class was for data structures and it has been fun so far. Great lectures and the assignments are fairly straightforward. Exams are easy. He cares about how much you understand instead of killing you on the exams and assignments. But do attend class it can be very helpful for the exams.\n",
      "Attendendance Mandatory: True\n",
      "grade: A\n",
      "CISC220\n",
      "Great professor, he had a lot of industrial experience so you can learn about the real world programming. I've only had the first class so far and I am impressed when he talked about the elegance of code. The class is mostly about data structures and algorithms analysis, I like how he compares how the different implementations impact performance.\n",
      "Attendendance Mandatory: False\n",
      "grade: \n",
      "CISC361\n",
      "Doesn't get bogged down by academia, is a very good programmer who can help you with a lot of code despite having lax tests and lectures\n",
      "Attendendance Mandatory: False\n",
      "grade: A\n",
      "CISC361\n",
      "Supergreg!  #1!\n",
      "Attendendance Mandatory: None\n",
      "grade: \n",
      "CISC361\n",
      "Cool dude. Anyone can learn a lot from him.\n",
      "Attendendance Mandatory: None\n",
      "grade: \n",
      "CISC361\n",
      "Nice guy hard class exams pretty diffucult if you don't take careful notes take noytes and you will be fine!!\n",
      "Attendendance Mandatory: None\n",
      "grade: \n",
      "CISC361\n",
      "Greg Silber is the man. His lectures are right to the point and the exams reflect his key topics. Awesome course.\n",
      "Attendendance Mandatory: None\n",
      "grade: \n",
      "CISC361\n",
      "Fun professor, and is very knowledgable about operating systems. Exams are based entirely on notes so make sure you go to class. Don't bother buying the textbook, I never used it. The only assignments are programming projects and he is very helpful if you're having problems with them.\n",
      "Attendendance Mandatory: None\n",
      "grade: \n",
      "CISC361\n",
      "Good professor.  If you go to class and pay attention you really have to try not to get atleast a B.  Projects are kinda tough, but he basically writes them in class.  From what i've heard, best prof. for this class.\n",
      "Attendendance Mandatory: None\n",
      "grade: \n",
      "CIS361\n",
      "He is the best teacher I've had so far at UD.  He makes the material easy to understand.  No homework except projects.  Go to class, take notes and you'll do fine on the tests.  He makes the projects easy to do and understand.\n",
      "Attendendance Mandatory: None\n",
      "grade: \n",
      "CISC361\n",
      "one of the best...the class is easy b/c he teaches it so well...fun and easy to talk to\n",
      "Attendendance Mandatory: None\n",
      "grade: \n",
      "CISC361\n",
      "Good guy. Knows his stuff. Projects make you think, but he will really help you out. Fair grader. Just come to class and you'll be fine.\n",
      "Attendendance Mandatory: None\n",
      "grade: \n",
      "CISC361\n",
      "Excellent prof! Tells things like they are, explains material in depth and clearly. He is fair in project assignments and on exams. He expects a lot from you, but his teaching will only make you want to impress. There are few profs on this level.\n",
      "Attendendance Mandatory: None\n",
      "grade: \n",
      "CISC361\n",
      "Strange guy, but a pretty good teacher.  First 2 projects can be tough but he'll literally type the code for you if you go to office hours.  Last 2 projects are a joke. Very fair test grader... should be an A if you study\n",
      "Attendendance Mandatory: None\n",
      "grade: \n",
      "CISC361\n",
      "Great guy.  Projects are very doable, exams are fair, and it's easy to learn the material.  Great teacher!\n",
      "Attendendance Mandatory: None\n",
      "grade: \n",
      "CISC361\n",
      "One of the best professors I've ever had - a true breath of fresh air.  He is quite in touch with  real world  computer science and he cares a lot about his students.  My only complaint is the final exam being worth 40% - ouch.\n",
      "Attendendance Mandatory: None\n",
      "grade: \n",
      "CIS361\n",
      "smart guy, fair grading, exam is your brain test ( don't study too much ).\n",
      "Attendendance Mandatory: None\n",
      "grade: \n",
      "CIS181\n",
      "The most helpful teacher I have ever had. Take him whenever possible\n",
      "Attendendance Mandatory: None\n",
      "grade: \n",
      "CIS470\n",
      "Great Prof, interesting class...would be nice if he gave stuff back though...\n",
      "Attendendance Mandatory: None\n",
      "grade: \n",
      "CISC361\n",
      "Great teacher.. If only there were more..\n",
      "Attendendance Mandatory: None\n",
      "grade: \n",
      "CISC361\n",
      "Really interesting teacher!  Really smart too!\n",
      "Attendendance Mandatory: None\n",
      "grade: \n",
      "CISC361\n",
      "good guy...fair..take him\n",
      "Attendendance Mandatory: None\n",
      "grade: \n",
      "CSC360\n",
      "He's a really cool guy! Makes hard topics easy to understand. A must for 360.\n",
      "Attendendance Mandatory: None\n",
      "grade: A+\n"
     ]
    }
   ],
   "source": [
    "ratings =professor.get_ratings()\n",
    "for rating in ratings:\n",
    "    print(rating.class_name)\n",
    "    print(rating.comment)\n",
    "    print(f\"Attendendance Mandatory: {rating.attendance_mandatory}\")\n",
    "    print(f\"grade: {rating.grade}\")\n"
   ]
  },
  {
   "cell_type": "code",
   "execution_count": 64,
   "metadata": {},
   "outputs": [
    {
     "name": "stdout",
     "output_type": "stream",
     "text": [
      "B\n",
      "A\n",
      "A\n",
      "A\n",
      "A-\n",
      "B\n",
      "B-\n",
      "A\n",
      "C\n",
      "Not sure yet\n",
      "A\n",
      "C-\n",
      "B\n",
      "B\n",
      "B\n",
      "A\n",
      "A\n",
      "A+\n",
      "A-\n",
      "A\n",
      "A\n",
      "A\n",
      "Not sure yet\n",
      "A\n",
      "A\n",
      "A\n",
      "Not sure yet\n",
      "A\n",
      "A+\n",
      "A\n",
      "Not sure yet\n",
      "A\n",
      "B+\n",
      "A\n",
      "A+\n",
      "A+\n",
      "A\n",
      "A\n",
      "A\n",
      "A\n",
      "A\n",
      "A+\n",
      "81.2\n"
     ]
    }
   ],
   "source": [
    "def get_average_grade(ratings):\n",
    "    grade = 0\n",
    "    total_grades = 0\n",
    "    for rating in ratings:\n",
    "        if len(rating.grade) == 1:\n",
    "            print(rating.grade)\n",
    "            total_grades += 1\n",
    "            if rating.grade == \"A\" or rating.grade == 'A+':\n",
    "                grade += 93\n",
    "            elif rating.grade == \"B\" or rating.grade == 'B+':\n",
    "                grade += 83\n",
    "            elif rating.grade == \"C\" or rating.grade == 'C+':\n",
    "                grade += 73\n",
    "            elif rating.grade == \"D\" or rating.grade == 'D+':\n",
    "                grade += 63\n",
    "            elif rating.grade == \"F\" or rating.grade == 'F+':\n",
    "                grade += 59\n",
    "            elif rating.grade == 'A-':\n",
    "                grade += 90\n",
    "            elif rating.grade == 'B-':\n",
    "                grade += 80\n",
    "            elif rating.grade == 'C-':\n",
    "                grade += 70\n",
    "            elif rating.grade == 'D-':\n",
    "                grade += 60\n",
    "    return round(grade / total_grades, 1)\n",
    "print(get_average_grade(ratings))"
   ]
  },
  {
   "cell_type": "code",
   "execution_count": 42,
   "metadata": {},
   "outputs": [
    {
     "name": "stdout",
     "output_type": "stream",
     "text": [
      "Greg Silber works in the Computer Science Department of University of Delaware.\n",
      "Rating: 4.7 / 5.0\n",
      "Difficulty: 2.6 / 5.0\n",
      "Total Ratings: 66\n",
      "Would Take Again: 100%\n"
     ]
    }
   ],
   "source": [
    "if professor is not None:\n",
    "    print(\"%s works in the %s Department of %s.\" % (professor.name, professor.department, professor.school.name))\n",
    "    print(\"Rating: %s / 5.0\" % professor.rating)\n",
    "    print(\"Difficulty: %s / 5.0\" % professor.difficulty)\n",
    "    print(\"Total Ratings: %s\" % professor.num_ratings)\n",
    "    if professor.would_take_again is not None:\n",
    "        print((\"Would Take Again: %s\" % round(professor.would_take_again, 1)) + '%')\n",
    "    else:\n",
    "        print(\"Would Take Again: N/A\")"
   ]
  },
  {
   "cell_type": "code",
   "execution_count": 12,
   "metadata": {},
   "outputs": [
    {
     "name": "stdout",
     "output_type": "stream",
     "text": [
      "John Aromando\n"
     ]
    }
   ],
   "source": [
    "john = ratemyprofessor.get_professor_by_school_and_name(\n",
    "    ratemyprofessor.get_school_by_name(\"University of Delaware\"), \"Aromando\")\n",
    "print(john)"
   ]
  },
  {
   "cell_type": "code",
   "execution_count": 13,
   "metadata": {},
   "outputs": [
    {
     "name": "stdout",
     "output_type": "stream",
     "text": [
      "John Aromando works in the Computer Science Department of University of Delaware.\n",
      "Rating: 4.5 / 5.0\n",
      "Difficulty: 2.3 / 5.0\n",
      "Total Ratings: 10\n",
      "Would Take Again: 100%\n"
     ]
    }
   ],
   "source": [
    "if john is not None:\n",
    "    print(\"%s works in the %s Department of %s.\" % (john.name, john.department, john.school.name))\n",
    "    print(\"Rating: %s / 5.0\" % john.rating)\n",
    "    print(\"Difficulty: %s / 5.0\" % john.difficulty)\n",
    "    print(\"Total Ratings: %s\" % john.num_ratings)\n",
    "    if john.would_take_again is not None:\n",
    "        print((\"Would Take Again: %s\" % round(john.would_take_again, 1)) + '%')\n",
    "    else:\n",
    "        print(\"Would Take Again: N/A\")"
   ]
  },
  {
   "cell_type": "code",
   "execution_count": 63,
   "metadata": {},
   "outputs": [
    {
     "name": "stdout",
     "output_type": "stream",
     "text": [
      "80.7\n"
     ]
    }
   ],
   "source": [
    "johnRatings = john.get_ratings()\n",
    "print(get_average_grade(johnRatings))"
   ]
  },
  {
   "cell_type": "code",
   "execution_count": 14,
   "metadata": {},
   "outputs": [
    {
     "name": "stdout",
     "output_type": "stream",
     "text": [
      "Austin Bart\n"
     ]
    }
   ],
   "source": [
    "bart = ratemyprofessor.get_professor_by_school_and_name(\n",
    "    ratemyprofessor.get_school_by_name(\"University of Delaware\"), \"Bart\")\n",
    "print(bart)"
   ]
  },
  {
   "cell_type": "code",
   "execution_count": 23,
   "metadata": {},
   "outputs": [
    {
     "name": "stdout",
     "output_type": "stream",
     "text": [
      "Austin Bart works in the Computer Science Department of University of Delaware.\n",
      "Rating: 3.9 / 5.0\n",
      "Difficulty: 2.9 / 5.0\n",
      "Total Ratings: 82\n",
      "Would Take Again: 85.3%\n"
     ]
    }
   ],
   "source": [
    "print(\"%s works in the %s Department of %s.\" % (bart.name, bart.department, bart.school.name))\n",
    "print(\"Rating: %s / 5.0\" % bart.rating)\n",
    "print(\"Difficulty: %s / 5.0\" % bart.difficulty)\n",
    "print(\"Total Ratings: %s\" % bart.num_ratings)\n",
    "if bart.would_take_again is not None:\n",
    "    print((\"Would Take Again: %s\" % round(bart.would_take_again, 1)) + '%')\n",
    "else:\n",
    "    print(\"Would Take Again: N/A\")\n",
    "    "
   ]
  },
  {
   "cell_type": "code",
   "execution_count": 31,
   "metadata": {},
   "outputs": [
    {
     "ename": "AttributeError",
     "evalue": "'Professor' object has no attribute 'getFirstTag'",
     "output_type": "error",
     "traceback": [
      "\u001b[0;31m---------------------------------------------------------------------------\u001b[0m",
      "\u001b[0;31mAttributeError\u001b[0m                            Traceback (most recent call last)",
      "Cell \u001b[0;32mIn[31], line 1\u001b[0m\n\u001b[0;32m----> 1\u001b[0m \u001b[38;5;28mprint\u001b[39m(\u001b[43mbart\u001b[49m\u001b[38;5;241;43m.\u001b[39;49m\u001b[43mgetFirstTag\u001b[49m())\n",
      "\u001b[0;31mAttributeError\u001b[0m: 'Professor' object has no attribute 'getFirstTag'"
     ]
    }
   ],
   "source": [
    "print(bart.getFirstTag())"
   ]
  },
  {
   "cell_type": "markdown",
   "metadata": {},
   "source": [
    "Main pinecone embedding loop. The idea is to create an array of names of professors from the computer science department at UD that I know are in the RMP database. Then we loop over these names gathering the scraped data from the rateMyProf api. We then create pinecone embeddings for each of theser professors with data such as their name, department, rating, difficulty, would take again, top comments, average grade, etc."
   ]
  },
  {
   "cell_type": "code",
   "execution_count": null,
   "metadata": {},
   "outputs": [],
   "source": [
    "UD_Professors = []"
   ]
  }
 ],
 "metadata": {
  "kernelspec": {
   "display_name": "rag",
   "language": "python",
   "name": "python3"
  },
  "language_info": {
   "codemirror_mode": {
    "name": "ipython",
    "version": 3
   },
   "file_extension": ".py",
   "mimetype": "text/x-python",
   "name": "python",
   "nbconvert_exporter": "python",
   "pygments_lexer": "ipython3",
   "version": "3.10.14"
  }
 },
 "nbformat": 4,
 "nbformat_minor": 2
}
